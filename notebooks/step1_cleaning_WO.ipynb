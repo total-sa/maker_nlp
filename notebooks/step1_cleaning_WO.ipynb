{
 "cells": [
  {
   "cell_type": "markdown",
   "metadata": {},
   "source": [
    "- Kaggle : https://www.kaggle.com/c/sentiment-analysis-on-movie-reviews/overview\n",
    "- Maker notes : https://www.notion.so/maker-NLP-00d265601ad146e490bea30cda512756"
   ]
  },
  {
   "cell_type": "markdown",
   "metadata": {},
   "source": [
    "# Installation"
   ]
  },
  {
   "cell_type": "code",
   "execution_count": null,
   "metadata": {},
   "outputs": [],
   "source": [
    "! make -C ../"
   ]
  },
  {
   "cell_type": "code",
   "execution_count": null,
   "metadata": {},
   "outputs": [],
   "source": [
    "import sys\n",
    "sys.path.append('..')\n",
    "\n",
    "from pathlib import Path\n",
    "import pandas as pd\n",
    "import numpy as np\n",
    "import matplotlib.pyplot as plt\n",
    "\n",
    "from sklearn.model_selection import train_test_split\n",
    "from sklearn.feature_extraction.text import CountVectorizer\n",
    "\n",
    "from maker_nlp.vizualisation import plot_top_k_words_per_sentiment, plot_top_k_words_in_corpus\n",
    "from maker_nlp.preprocessing import remove_stop_words, convert_to_lowercase, remove_accents, \\\n",
    "    remove_punctuation_and_digits, normalize_text, lemmatize\n",
    "\n",
    "DATA_FOLDER = Path('../data')"
   ]
  },
  {
   "cell_type": "markdown",
   "metadata": {},
   "source": [
    "## Dataset"
   ]
  },
  {
   "cell_type": "code",
   "execution_count": null,
   "metadata": {},
   "outputs": [],
   "source": [
    "df = pd.read_csv(DATA_FOLDER / 'final_dataset.csv')\n",
    "print(df.shape)\n",
    "df.head()"
   ]
  },
  {
   "cell_type": "code",
   "execution_count": null,
   "metadata": {},
   "outputs": [],
   "source": [
    "phrase, sentiment = df.Phrase, df.Sentiment\n",
    "print(f'Shape of Phrase = {phrase.shape}, Shape of Sentiment = {sentiment.shape}')"
   ]
  },
  {
   "cell_type": "markdown",
   "metadata": {},
   "source": [
    "## Pre-processing & Feature engineering"
   ]
  },
  {
   "cell_type": "markdown",
   "metadata": {},
   "source": [
    "### Vectorize Text Data"
   ]
  },
  {
   "cell_type": "markdown",
   "metadata": {},
   "source": [
    "#### Transform dataset to a bag of words\n",
    "\n",
    "Bag of words is a naive methods to vectorize any texts. \n",
    "The first step is to gather all the different words that appear in all the texts. We call that a ***dictionnary***.\n",
    "Then, for each text, we count the occurences of the words in the dictionnary: the different counts form a ***vector***.  \n",
    "\n",
    "To make this explanation easy, let's take an example:  \n",
    "  \n",
    ">*This car is amazing*  \n",
    ">*My car is blue*  \n",
    "\n",
    "First, let's create our ***dictionnary***:\n",
    "\n",
    "<img src = \"../img/bow2.png\">\n",
    "\n",
    "Then, we *vectorize* the two sentences as in the following table (each row corresponds to a sentence):\n",
    "\n",
    "|this|car|is|amazing|my|blue|\n",
    "|----|---|--|-------|--|----|\n",
    "|   1|  1| 1|      1| 0|   0|\n",
    "|   0|  1| 1|      0| 1|   1|\n",
    "\n",
    "\n"
   ]
  },
  {
   "cell_type": "markdown",
   "metadata": {},
   "source": [
    "**Now, we perform this strategy on our data**"
   ]
  },
  {
   "cell_type": "code",
   "execution_count": null,
   "metadata": {},
   "outputs": [],
   "source": [
    "count_vectorizer = CountVectorizer()"
   ]
  },
  {
   "cell_type": "code",
   "execution_count": null,
   "metadata": {},
   "outputs": [],
   "source": [
    "count_vectorizer.fit(phrase)"
   ]
  },
  {
   "cell_type": "code",
   "execution_count": null,
   "metadata": {},
   "outputs": [],
   "source": [
    "phrase_count_features = count_vectorizer.transform(phrase)\n",
    "phrase_count_features"
   ]
  },
  {
   "cell_type": "markdown",
   "metadata": {},
   "source": [
    "#### Evaluation"
   ]
  },
  {
   "cell_type": "code",
   "execution_count": null,
   "metadata": {
    "scrolled": false
   },
   "outputs": [],
   "source": [
    "plot_top_k_words_per_sentiment(phrase, sentiment, 10)"
   ]
  },
  {
   "cell_type": "markdown",
   "metadata": {},
   "source": [
    "### Work with test dataset"
   ]
  },
  {
   "cell_type": "markdown",
   "metadata": {},
   "source": [
    "**Exercice:**\n",
    "\n",
    "Nettoyer le texte pour rendre le graphique intéressant à l'analyse.\n",
    "\n",
    "(Extraits de 'Du pétrole à l’énergie verte, Total en transition ?' de ouest-france)"
   ]
  },
  {
   "cell_type": "code",
   "execution_count": null,
   "metadata": {},
   "outputs": [],
   "source": [
    "texte_1 = \"À l'horizon 2025, la multinationale vise une capacité mondiale de production d’électricité \\\n",
    "    bas carbone de 25 gigawatts (contre 2,7 GW aujourd’hui), « ce qui commencerait à être relativement \\\n",
    "    important à l’échelle de la planète », déroule Patrick Pouyanné.\""
   ]
  },
  {
   "cell_type": "code",
   "execution_count": null,
   "metadata": {},
   "outputs": [],
   "source": [
    "texte_2 = \"Depuis 2015, Total a acquis pour presque six milliards d’euros d’actifs \\\n",
    "    dans les énergies dites nouvelles (Saft, Direct Energie, Total Eren, etc.). Une branche qui \\\n",
    "    concentre désormais 10 % du total de ses investissements et représente 10 000 employés, sur les \\\n",
    "    100 000 que compte le groupe.\""
   ]
  },
  {
   "cell_type": "code",
   "execution_count": null,
   "metadata": {},
   "outputs": [],
   "source": [
    "texte_3 = \"Le nombre de stations a presque été divisé par quatre ces quarante dernières \\\n",
    "    années en France, et dépassait à peine les 11 000 en 2018.\""
   ]
  },
  {
   "cell_type": "code",
   "execution_count": null,
   "metadata": {},
   "outputs": [],
   "source": [
    "texte_4 = \"À titre d’exemple, Patrick Pouyanné évoque le cas de l’Inde, un pays de « bientôt \\\n",
    "    1,5 milliard de personnes », soit « 25 % du problème du changement climatique ».\""
   ]
  },
  {
   "cell_type": "code",
   "execution_count": null,
   "metadata": {
    "scrolled": false
   },
   "outputs": [],
   "source": [
    "plot_top_k_words_in_corpus([texte_1, texte_2, texte_3, texte_4], 10)"
   ]
  },
  {
   "cell_type": "markdown",
   "metadata": {},
   "source": [
    "### Remove Useless Words"
   ]
  },
  {
   "cell_type": "code",
   "execution_count": null,
   "metadata": {},
   "outputs": [],
   "source": [
    "text = \"\"\"24 sept. 2020 14:52 - Le groupe Total a confirmé ce jeudi la fermeture de sa raffinerie de Grandpuits (Seine-et-Marne) pour la transformer en \"plateforme zéro pétrole\".\"\"\"\n",
    "text"
   ]
  },
  {
   "cell_type": "code",
   "execution_count": null,
   "metadata": {},
   "outputs": [],
   "source": [
    "remove_stop_words(text)"
   ]
  },
  {
   "cell_type": "markdown",
   "metadata": {},
   "source": [
    "#### Normalize Text"
   ]
  },
  {
   "cell_type": "code",
   "execution_count": null,
   "metadata": {},
   "outputs": [],
   "source": [
    "text = \"\"\"24 sept. 2020 14:52 - Le groupe Total a confirmé ce jeudi la fermeture de sa raffinerie de Grandpuits (Seine-et-Marne) pour la transformer en \"plateforme zéro pétrole\".\"\"\"\n",
    "text"
   ]
  },
  {
   "cell_type": "markdown",
   "metadata": {},
   "source": [
    "- Convert text to lowercase"
   ]
  },
  {
   "cell_type": "code",
   "execution_count": null,
   "metadata": {},
   "outputs": [],
   "source": [
    "convert_to_lowercase(text)"
   ]
  },
  {
   "cell_type": "markdown",
   "metadata": {},
   "source": [
    "- Remove accents"
   ]
  },
  {
   "cell_type": "code",
   "execution_count": null,
   "metadata": {},
   "outputs": [],
   "source": [
    "remove_accents(text)"
   ]
  },
  {
   "cell_type": "markdown",
   "metadata": {},
   "source": [
    "- Remove punctuation and digits"
   ]
  },
  {
   "cell_type": "code",
   "execution_count": null,
   "metadata": {},
   "outputs": [],
   "source": [
    "remove_punctuation_and_digits(text)"
   ]
  },
  {
   "cell_type": "markdown",
   "metadata": {},
   "source": [
    "**All these operations are grouped into one function**"
   ]
  },
  {
   "cell_type": "code",
   "execution_count": null,
   "metadata": {},
   "outputs": [],
   "source": [
    "normalized_text = normalize_text(text)\n",
    "normalized_text"
   ]
  },
  {
   "cell_type": "markdown",
   "metadata": {},
   "source": [
    "#### Stop words"
   ]
  },
  {
   "cell_type": "code",
   "execution_count": null,
   "metadata": {},
   "outputs": [],
   "source": [
    "useful_words = remove_stop_words(normalized_text)\n",
    "useful_words"
   ]
  },
  {
   "cell_type": "code",
   "execution_count": null,
   "metadata": {},
   "outputs": [],
   "source": [
    "useless_words = set(useful_words.split(' ')).symmetric_difference(set(normalized_text.split(' ')))\n",
    "useless_words"
   ]
  },
  {
   "cell_type": "markdown",
   "metadata": {},
   "source": [
    "#### Evaluation"
   ]
  },
  {
   "cell_type": "code",
   "execution_count": null,
   "metadata": {},
   "outputs": [],
   "source": [
    "normalized_phrase = phrase.apply(normalize_text)\n",
    "cleaned_phrase = normalized_phrase.apply(remove_stop_words)"
   ]
  },
  {
   "cell_type": "code",
   "execution_count": null,
   "metadata": {},
   "outputs": [],
   "source": [
    "plot_top_k_words_per_sentiment(cleaned_phrase, sentiment, 20)"
   ]
  },
  {
   "cell_type": "markdown",
   "metadata": {},
   "source": [
    "### Lemmatization"
   ]
  },
  {
   "cell_type": "markdown",
   "metadata": {},
   "source": [
    "#### What is text lemmatization?\n",
    "\n",
    "Lemmatization is the process of reducing each word to a *canonical form* named a ***lemma***. To objective is to treat different forms of a same word as a single one.  \n",
    "For example:  \n",
    "\n",
    "> *better* -> good  \n",
    "> *are* -> be  \n",
    "> *running* -> run"
   ]
  },
  {
   "cell_type": "code",
   "execution_count": null,
   "metadata": {},
   "outputs": [],
   "source": [
    "sentence = \"Apples and oranges are similar. Boots and hippos aren't.\"\n",
    "lemmatize(sentence)"
   ]
  },
  {
   "cell_type": "markdown",
   "metadata": {},
   "source": [
    "#### Application"
   ]
  },
  {
   "cell_type": "code",
   "execution_count": null,
   "metadata": {},
   "outputs": [],
   "source": [
    "lemmatized_text = cleaned_phrase.apply(lemmatize)\n",
    "lemmatized_text"
   ]
  },
  {
   "cell_type": "code",
   "execution_count": null,
   "metadata": {},
   "outputs": [],
   "source": [
    "plot_top_k_words_per_sentiment(lemmatized_text, sentiment, 20)"
   ]
  }
 ],
 "metadata": {
  "kernelspec": {
   "display_name": "Python 3",
   "language": "python",
   "name": "python3"
  },
  "language_info": {
   "codemirror_mode": {
    "name": "ipython",
    "version": 3
   },
   "file_extension": ".py",
   "mimetype": "text/x-python",
   "name": "python",
   "nbconvert_exporter": "python",
   "pygments_lexer": "ipython3",
   "version": "3.8.10"
  },
  "toc": {
   "base_numbering": 1,
   "nav_menu": {},
   "number_sections": true,
   "sideBar": true,
   "skip_h1_title": false,
   "title_cell": "Table of Contents",
   "title_sidebar": "Contents",
   "toc_cell": false,
   "toc_position": {},
   "toc_section_display": true,
   "toc_window_display": false
  }
 },
 "nbformat": 4,
 "nbformat_minor": 4
}
